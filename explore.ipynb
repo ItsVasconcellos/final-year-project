{
 "cells": [
  {
   "cell_type": "code",
   "execution_count": 12,
   "id": "8ded8f25",
   "metadata": {},
   "outputs": [],
   "source": [
    "import pandas as pd\n"
   ]
  },
  {
   "cell_type": "code",
   "execution_count": 13,
   "id": "51b6305a",
   "metadata": {},
   "outputs": [
    {
     "name": "stdout",
     "output_type": "stream",
     "text": [
      "Python 3.11.14\n"
     ]
    }
   ],
   "source": [
    "!python --version"
   ]
  },
  {
   "cell_type": "code",
   "execution_count": 14,
   "id": "7e54298c",
   "metadata": {},
   "outputs": [],
   "source": [
    "\n",
    "with open('./database/edges.csv', mode='r') as file:\n",
    "    edges = pd.read_csv(file)\n",
    "\n",
    "with open('./database/stations.csv', mode='r') as file:\n",
    "    stations = pd.read_csv(file)\n"
   ]
  },
  {
   "cell_type": "code",
   "execution_count": 15,
   "id": "6bbdb1a6",
   "metadata": {},
   "outputs": [],
   "source": [
    "edges = edges.merge(stations, left_on=\"source\", right_on=\"code\", how=\"left\" )\n",
    "edges = edges.merge(stations, left_on=\"target\", right_on=\"code\", how=\"left\", suffixes=(\"_source\", \"_target\"))\n",
    "\n",
    "edges = edges.drop(columns=['code_source', 'code_target'])"
   ]
  },
  {
   "cell_type": "code",
   "execution_count": 16,
   "id": "ae5e0461",
   "metadata": {},
   "outputs": [
    {
     "data": {
      "text/html": [
       "<div>\n",
       "<style scoped>\n",
       "    .dataframe tbody tr th:only-of-type {\n",
       "        vertical-align: middle;\n",
       "    }\n",
       "\n",
       "    .dataframe tbody tr th {\n",
       "        vertical-align: top;\n",
       "    }\n",
       "\n",
       "    .dataframe thead th {\n",
       "        text-align: right;\n",
       "    }\n",
       "</style>\n",
       "<table border=\"1\" class=\"dataframe\">\n",
       "  <thead>\n",
       "    <tr style=\"text-align: right;\">\n",
       "      <th></th>\n",
       "      <th>source</th>\n",
       "      <th>target</th>\n",
       "      <th>distance</th>\n",
       "      <th>lat_source</th>\n",
       "      <th>long_source</th>\n",
       "      <th>name_source</th>\n",
       "      <th>lat_target</th>\n",
       "      <th>long_target</th>\n",
       "      <th>name_target</th>\n",
       "    </tr>\n",
       "  </thead>\n",
       "  <tbody>\n",
       "    <tr>\n",
       "      <th>0</th>\n",
       "      <td>AAP</td>\n",
       "      <td>BOP</td>\n",
       "      <td>1.00</td>\n",
       "      <td>51.598290</td>\n",
       "      <td>-0.120140</td>\n",
       "      <td>Alexandra Palace</td>\n",
       "      <td>51.607280</td>\n",
       "      <td>-0.119770</td>\n",
       "      <td>Bowes Park</td>\n",
       "    </tr>\n",
       "    <tr>\n",
       "      <th>1</th>\n",
       "      <td>AAP</td>\n",
       "      <td>HRN</td>\n",
       "      <td>1.43</td>\n",
       "      <td>51.598290</td>\n",
       "      <td>-0.120140</td>\n",
       "      <td>Alexandra Palace</td>\n",
       "      <td>51.586470</td>\n",
       "      <td>-0.111970</td>\n",
       "      <td>Hornsey</td>\n",
       "    </tr>\n",
       "    <tr>\n",
       "      <th>2</th>\n",
       "      <td>AAP</td>\n",
       "      <td>NSG</td>\n",
       "      <td>2.37</td>\n",
       "      <td>51.598290</td>\n",
       "      <td>-0.120140</td>\n",
       "      <td>Alexandra Palace</td>\n",
       "      <td>51.614120</td>\n",
       "      <td>-0.143030</td>\n",
       "      <td>New Southgate</td>\n",
       "    </tr>\n",
       "    <tr>\n",
       "      <th>3</th>\n",
       "      <td>AAP</td>\n",
       "      <td>PAL</td>\n",
       "      <td>2.38</td>\n",
       "      <td>51.598290</td>\n",
       "      <td>-0.120140</td>\n",
       "      <td>Alexandra Palace</td>\n",
       "      <td>51.618820</td>\n",
       "      <td>-0.110340</td>\n",
       "      <td>Palmers Green</td>\n",
       "    </tr>\n",
       "    <tr>\n",
       "      <th>4</th>\n",
       "      <td>AAT</td>\n",
       "      <td>ACN</td>\n",
       "      <td>10.03</td>\n",
       "      <td>57.609813</td>\n",
       "      <td>-4.914217</td>\n",
       "      <td>Achanalt</td>\n",
       "      <td>57.579101</td>\n",
       "      <td>-5.072368</td>\n",
       "      <td>Achnasheen</td>\n",
       "    </tr>\n",
       "  </tbody>\n",
       "</table>\n",
       "</div>"
      ],
      "text/plain": [
       "  source target  distance  lat_source  long_source       name_source  \\\n",
       "0    AAP    BOP      1.00   51.598290    -0.120140  Alexandra Palace   \n",
       "1    AAP    HRN      1.43   51.598290    -0.120140  Alexandra Palace   \n",
       "2    AAP    NSG      2.37   51.598290    -0.120140  Alexandra Palace   \n",
       "3    AAP    PAL      2.38   51.598290    -0.120140  Alexandra Palace   \n",
       "4    AAT    ACN     10.03   57.609813    -4.914217          Achanalt   \n",
       "\n",
       "   lat_target  long_target    name_target  \n",
       "0   51.607280    -0.119770     Bowes Park  \n",
       "1   51.586470    -0.111970        Hornsey  \n",
       "2   51.614120    -0.143030  New Southgate  \n",
       "3   51.618820    -0.110340  Palmers Green  \n",
       "4   57.579101    -5.072368     Achnasheen  "
      ]
     },
     "execution_count": 16,
     "metadata": {},
     "output_type": "execute_result"
    }
   ],
   "source": [
    "edges.head(5)"
   ]
  },
  {
   "cell_type": "code",
   "execution_count": 17,
   "id": "73001c4d",
   "metadata": {},
   "outputs": [
    {
     "name": "stdout",
     "output_type": "stream",
     "text": [
      "7643\n",
      "2556\n"
     ]
    }
   ],
   "source": [
    "print(len(edges))\n",
    "nodes = edges\n",
    "unique_nodes = nodes.drop_duplicates(\"source\")\n",
    "print(len(unique_nodes))"
   ]
  },
  {
   "cell_type": "code",
   "execution_count": 18,
   "id": "7d989fc6",
   "metadata": {},
   "outputs": [
    {
     "name": "stdout",
     "output_type": "stream",
     "text": [
      "Python: 3.11.14 (main, Oct 14 2025, 21:26:53) [Clang 20.1.4 ]\n",
      "PyVis: 0.3.2\n",
      "Jinja2: 3.1.6\n"
     ]
    }
   ],
   "source": [
    "import pyvis, jinja2, sys\n",
    "print(\"Python:\", sys.version)\n",
    "print(\"PyVis:\", pyvis.__version__)\n",
    "print(\"Jinja2:\", jinja2.__version__)\n"
   ]
  },
  {
   "cell_type": "code",
   "execution_count": 19,
   "id": "c517e850",
   "metadata": {},
   "outputs": [
    {
     "name": "stdout",
     "output_type": "stream",
     "text": [
      "gameofthrones.html\n"
     ]
    },
    {
     "ename": "AttributeError",
     "evalue": "'NoneType' object has no attribute 'render'",
     "output_type": "error",
     "traceback": [
      "\u001b[31m---------------------------------------------------------------------------\u001b[39m",
      "\u001b[31mAttributeError\u001b[39m                            Traceback (most recent call last)",
      "\u001b[36mCell\u001b[39m\u001b[36m \u001b[39m\u001b[32mIn[19]\u001b[39m\u001b[32m, line 24\u001b[39m\n\u001b[32m     21\u001b[39m     node[\u001b[33m\"\u001b[39m\u001b[33mvalue\u001b[39m\u001b[33m\"\u001b[39m] = \u001b[38;5;28mlen\u001b[39m(neighbors)\n\u001b[32m     23\u001b[39m \u001b[38;5;66;03m# Show\u001b[39;00m\n\u001b[32m---> \u001b[39m\u001b[32m24\u001b[39m \u001b[43mnet\u001b[49m\u001b[43m.\u001b[49m\u001b[43mshow\u001b[49m\u001b[43m(\u001b[49m\u001b[33;43m\"\u001b[39;49m\u001b[33;43mgameofthrones.html\u001b[39;49m\u001b[33;43m\"\u001b[39;49m\u001b[43m)\u001b[49m\n",
      "\u001b[36mFile \u001b[39m\u001b[32m~/dev/bradford/fyp/initial_research/.venv/lib/python3.11/site-packages/pyvis/network.py:546\u001b[39m, in \u001b[36mNetwork.show\u001b[39m\u001b[34m(self, name, local, notebook)\u001b[39m\n\u001b[32m    544\u001b[39m \u001b[38;5;28mprint\u001b[39m(name)\n\u001b[32m    545\u001b[39m \u001b[38;5;28;01mif\u001b[39;00m notebook:\n\u001b[32m--> \u001b[39m\u001b[32m546\u001b[39m     \u001b[38;5;28;43mself\u001b[39;49m\u001b[43m.\u001b[49m\u001b[43mwrite_html\u001b[49m\u001b[43m(\u001b[49m\u001b[43mname\u001b[49m\u001b[43m,\u001b[49m\u001b[43m \u001b[49m\u001b[43mopen_browser\u001b[49m\u001b[43m=\u001b[49m\u001b[38;5;28;43;01mFalse\u001b[39;49;00m\u001b[43m,\u001b[49m\u001b[43mnotebook\u001b[49m\u001b[43m=\u001b[49m\u001b[38;5;28;43;01mTrue\u001b[39;49;00m\u001b[43m)\u001b[49m\n\u001b[32m    547\u001b[39m \u001b[38;5;28;01melse\u001b[39;00m:\n\u001b[32m    548\u001b[39m     \u001b[38;5;28mself\u001b[39m.write_html(name, open_browser=\u001b[38;5;28;01mTrue\u001b[39;00m)\n",
      "\u001b[36mFile \u001b[39m\u001b[32m~/dev/bradford/fyp/initial_research/.venv/lib/python3.11/site-packages/pyvis/network.py:515\u001b[39m, in \u001b[36mNetwork.write_html\u001b[39m\u001b[34m(self, name, local, notebook, open_browser)\u001b[39m\n\u001b[32m    513\u001b[39m getcwd_name = name\n\u001b[32m    514\u001b[39m check_html(getcwd_name)\n\u001b[32m--> \u001b[39m\u001b[32m515\u001b[39m \u001b[38;5;28mself\u001b[39m.html = \u001b[38;5;28;43mself\u001b[39;49m\u001b[43m.\u001b[49m\u001b[43mgenerate_html\u001b[49m\u001b[43m(\u001b[49m\u001b[43mnotebook\u001b[49m\u001b[43m=\u001b[49m\u001b[43mnotebook\u001b[49m\u001b[43m)\u001b[49m\n\u001b[32m    517\u001b[39m \u001b[38;5;28;01mif\u001b[39;00m \u001b[38;5;28mself\u001b[39m.cdn_resources == \u001b[33m\"\u001b[39m\u001b[33mlocal\u001b[39m\u001b[33m\"\u001b[39m:\n\u001b[32m    518\u001b[39m     \u001b[38;5;28;01mif\u001b[39;00m \u001b[38;5;129;01mnot\u001b[39;00m os.path.exists(\u001b[33m\"\u001b[39m\u001b[33mlib\u001b[39m\u001b[33m\"\u001b[39m):\n",
      "\u001b[36mFile \u001b[39m\u001b[32m~/dev/bradford/fyp/initial_research/.venv/lib/python3.11/site-packages/pyvis/network.py:479\u001b[39m, in \u001b[36mNetwork.generate_html\u001b[39m\u001b[34m(self, name, local, notebook)\u001b[39m\n\u001b[32m    476\u001b[39m \u001b[38;5;28;01melse\u001b[39;00m:\n\u001b[32m    477\u001b[39m     physics_enabled = \u001b[38;5;28mself\u001b[39m.options.physics.enabled\n\u001b[32m--> \u001b[39m\u001b[32m479\u001b[39m \u001b[38;5;28mself\u001b[39m.html = \u001b[43mtemplate\u001b[49m\u001b[43m.\u001b[49m\u001b[43mrender\u001b[49m(height=height,\n\u001b[32m    480\u001b[39m                             width=width,\n\u001b[32m    481\u001b[39m                             nodes=nodes,\n\u001b[32m    482\u001b[39m                             edges=edges,\n\u001b[32m    483\u001b[39m                             heading=heading,\n\u001b[32m    484\u001b[39m                             options=options,\n\u001b[32m    485\u001b[39m                             physics_enabled=physics_enabled,\n\u001b[32m    486\u001b[39m                             use_DOT=\u001b[38;5;28mself\u001b[39m.use_DOT,\n\u001b[32m    487\u001b[39m                             dot_lang=\u001b[38;5;28mself\u001b[39m.dot_lang,\n\u001b[32m    488\u001b[39m                             widget=\u001b[38;5;28mself\u001b[39m.widget,\n\u001b[32m    489\u001b[39m                             bgcolor=\u001b[38;5;28mself\u001b[39m.bgcolor,\n\u001b[32m    490\u001b[39m                             conf=\u001b[38;5;28mself\u001b[39m.conf,\n\u001b[32m    491\u001b[39m                             tooltip_link=use_link_template,\n\u001b[32m    492\u001b[39m                             neighborhood_highlight=\u001b[38;5;28mself\u001b[39m.neighborhood_highlight,\n\u001b[32m    493\u001b[39m                             select_menu=\u001b[38;5;28mself\u001b[39m.select_menu,\n\u001b[32m    494\u001b[39m                             filter_menu=\u001b[38;5;28mself\u001b[39m.filter_menu,\n\u001b[32m    495\u001b[39m                             notebook=notebook,\n\u001b[32m    496\u001b[39m                             cdn_resources=\u001b[38;5;28mself\u001b[39m.cdn_resources\n\u001b[32m    497\u001b[39m                             )\n\u001b[32m    498\u001b[39m \u001b[38;5;28;01mreturn\u001b[39;00m \u001b[38;5;28mself\u001b[39m.html\n",
      "\u001b[31mAttributeError\u001b[39m: 'NoneType' object has no attribute 'render'"
     ]
    }
   ],
   "source": [
    "from pyvis.network import Network\n",
    "\n",
    "net = Network(height=\"750px\", width=\"100%\", bgcolor=\"#222222\", font_color=\"white\")\n",
    "net.barnes_hut()\n",
    "\n",
    "# Add nodes\n",
    "for _, node in unique_nodes.iterrows():\n",
    "    net.add_node(node[\"source\"], label=node[\"name_source\"], title=node[\"name_source\"])\n",
    "\n",
    "# Add edges\n",
    "for _, edge in edges.iterrows():\n",
    "    net.add_edge(edge[\"source\"], edge[\"target\"], value=edge.get(\"distance\", 1))\n",
    "\n",
    "# Build neighbor map\n",
    "neighbor_map = net.get_adj_list()\n",
    "\n",
    "# Add hover info\n",
    "for node in net.nodes:\n",
    "    neighbors = neighbor_map.get(node[\"id\"], [])\n",
    "    node[\"title\"] += \" Neighbors:<br>\" + \"<br>\".join(neighbors)\n",
    "    node[\"value\"] = len(neighbors)\n",
    "\n",
    "# Show\n",
    "net.show(\"gameofthrones.html\")\n"
   ]
  }
 ],
 "metadata": {
  "kernelspec": {
   "display_name": "initial_research",
   "language": "python",
   "name": "python3"
  },
  "language_info": {
   "codemirror_mode": {
    "name": "ipython",
    "version": 3
   },
   "file_extension": ".py",
   "mimetype": "text/x-python",
   "name": "python",
   "nbconvert_exporter": "python",
   "pygments_lexer": "ipython3",
   "version": "3.11.14"
  }
 },
 "nbformat": 4,
 "nbformat_minor": 5
}
